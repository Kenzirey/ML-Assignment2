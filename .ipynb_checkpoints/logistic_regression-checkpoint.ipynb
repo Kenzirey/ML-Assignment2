{
 "cells": [
  {
   "cell_type": "code",
   "execution_count": 1,
   "id": "05618ab8-8845-4be4-bb4e-f6c5aed6b866",
   "metadata": {},
   "outputs": [],
   "source": [
    "import pandas as pd"
   ]
  },
  {
   "cell_type": "code",
   "execution_count": 2,
   "id": "f191c02c-1716-4c50-818a-ad836e100315",
   "metadata": {},
   "outputs": [],
   "source": [
    "data = pd.read_csv('diabetes_binary_classification_data.csv')"
   ]
  },
  {
   "cell_type": "code",
   "execution_count": 3,
   "id": "451a8000-694c-4c31-9649-ed7cfa85b7d1",
   "metadata": {},
   "outputs": [],
   "source": [
    "# data.describe()\n",
    "# data.info()"
   ]
  },
  {
   "cell_type": "code",
   "execution_count": 5,
   "id": "aea76f3c",
   "metadata": {},
   "outputs": [
    {
     "name": "stdout",
     "output_type": "stream",
     "text": [
      "HighBP              0.0    1.0\n",
      "Diabetes_binary               \n",
      "0.0              136109  82225\n",
      "1.0                8742  26604\n"
     ]
    }
   ],
   "source": [
    "# Create a contingency table\n",
    "y = 'Diabetes_binary'\n",
    "x = 'HighBP'\n",
    "contingency_table = pd.crosstab(data[y], data[x])\n",
    "\n",
    "# Display the contingency table\n",
    "print(contingency_table)"
   ]
  },
  {
   "cell_type": "code",
   "execution_count": 6,
   "id": "e5060bed-e017-4586-99db-77a3c7243fec",
   "metadata": {},
   "outputs": [
    {
     "name": "stdout",
     "output_type": "stream",
     "text": [
      "CholCheck         0.0     1.0\n",
      "Diabetes_binary              \n",
      "0.0              9229  209105\n",
      "1.0               241   35105\n"
     ]
    }
   ],
   "source": [
    "contingency_table = pd.crosstab(data[y], data['CholCheck'])\n",
    "\n",
    "# Display the contingency table\n",
    "print(contingency_table)"
   ]
  },
  {
   "cell_type": "code",
   "execution_count": 13,
   "id": "ca77548e-49bc-49e9-a4f3-656ca50dd378",
   "metadata": {},
   "outputs": [
    {
     "name": "stdout",
     "output_type": "stream",
     "text": [
      "Optimization terminated successfully.\n",
      "         Current function value: 0.347545\n",
      "         Iterations 8\n",
      "                           Logit Regression Results                           \n",
      "==============================================================================\n",
      "Dep. Variable:        Diabetes_binary   No. Observations:               253680\n",
      "Model:                          Logit   Df Residuals:                   253674\n",
      "Method:                           MLE   Df Model:                            5\n",
      "Date:                Mon, 30 Sep 2024   Pseudo R-squ.:                  0.1392\n",
      "Time:                        16:54:12   Log-Likelihood:                -88165.\n",
      "converged:                       True   LL-Null:                   -1.0242e+05\n",
      "Covariance Type:            nonrobust   LLR p-value:                     0.000\n",
      "========================================================================================\n",
      "                           coef    std err          z      P>|z|      [0.025      0.975]\n",
      "----------------------------------------------------------------------------------------\n",
      "const                   -4.4351      0.067    -66.178      0.000      -4.566      -4.304\n",
      "HighChol                 0.7024      0.013     53.789      0.000       0.677       0.728\n",
      "HighBP                   1.1813      0.014     84.801      0.000       1.154       1.209\n",
      "HeartDiseaseorAttack     0.5706      0.017     34.377      0.000       0.538       0.603\n",
      "DiffWalk                 0.8670      0.014     63.464      0.000       0.840       0.894\n",
      "CholCheck                1.3059      0.067     19.527      0.000       1.175       1.437\n",
      "========================================================================================\n",
      "   Diabetes_binary  HighChol  HighBP  HeartDiseaseorAttack  DiffWalk  \\\n",
      "0              0.0       1.0     1.0                   0.0       1.0   \n",
      "1              0.0       0.0     0.0                   0.0       0.0   \n",
      "2              0.0       1.0     1.0                   0.0       1.0   \n",
      "3              0.0       0.0     1.0                   0.0       0.0   \n",
      "4              0.0       1.0     1.0                   0.0       0.0   \n",
      "\n",
      "   CholCheck  predicted_probability  \n",
      "0        1.0               0.406464  \n",
      "1        0.0               0.011715  \n",
      "2        1.0               0.406464  \n",
      "3        1.0               0.124778  \n",
      "4        1.0               0.223469  \n"
     ]
    }
   ],
   "source": [
    "import statsmodels.api as sm\n",
    "\n",
    "# Specify the predictor columns such as HighChol, HighBP etc for the prediction.\n",
    "predictors = ['HighChol', 'HighBP', 'HeartDiseaseorAttack', 'DiffWalk', 'CholCheck']\n",
    "X = data[predictors]\n",
    "y = data['Diabetes_binary']\n",
    "\n",
    "# Add a constant to the model (the intercept)\n",
    "X = sm.add_constant(X)\n",
    "\n",
    "# Fit the logistic regression model\n",
    "model = sm.Logit(y, X).fit()\n",
    "\n",
    "# Print the summary of the model to see the coefficients\n",
    "print(model.summary())\n",
    "\n",
    "# Calculate predicted probabilities\n",
    "data['predicted_probability'] = model.predict(X)\n",
    "\n",
    "# View the first 5 predictions (default value of head is 5)\n",
    "print(data[['Diabetes_binary'] + predictors + ['predicted_probability']].head())\n"
   ]
  },
  {
   "cell_type": "markdown",
   "id": "517680d9",
   "metadata": {},
   "source": [
    "#### Logistic Regression Model Results\n",
    "When calculating the chance, as it is a logistic regression then coef is the estimated effect of each predictor variable on the LOG odds of the outcome.\n",
    "- The Intercept (const) shows the odds of having diabetes when all predictors are set to 0. As the const is a negative value, it shows that there is a lower probability of having ciabetes without the risk factors (at least the ones chosen for the model).\n",
    "- The HighBP coefficient is 1.3125, and to get the ratio you need to set e (Euler's constant) to the power of 1.3125 Which gives an estimated 3.7, which means the odds of having diabetes is 3.7 times higher for an individual with high blood pressure, vs one without it."
   ]
  },
  {
   "cell_type": "markdown",
   "id": "772bc0ee",
   "metadata": {},
   "source": [
    "### Model Accuracy\n",
    "Converged after 8 iterations, which seems to show that the model is stable.\n",
    "The log-likehood and pseudo R-squared suggests that the model fits well for our data, and explains the variability in regards to our dependent (diabetes).\n",
    "\n",
    "**We do however need to look more into how the model is set up, see if we need to make any alterations in regards to training.**"
   ]
  },
  {
   "cell_type": "markdown",
   "id": "930785dc",
   "metadata": {},
   "source": [
    "#### p-value: \n",
    "From the model, the p value is shown as 0 or close to 0, which means that the relationship between what we are looking at is statistically significant. If it was a higher value, it could mean that there is no effect between them, or that the encounters are due to chance, and not because of the relationship.\n",
    "\n",
    "So from our selected features, they all show a very low p-value, which means it is unlikely due to chance. Thus the results are stiatistically significant."
   ]
  },
  {
   "cell_type": "markdown",
   "id": "0623b282",
   "metadata": {},
   "source": [
    "# We should look at the various outputs from model and write our observations"
   ]
  }
 ],
 "metadata": {
  "kernelspec": {
   "display_name": "Python 3",
   "language": "python",
   "name": "python3"
  },
  "language_info": {
   "codemirror_mode": {
    "name": "ipython",
    "version": 3
   },
   "file_extension": ".py",
   "mimetype": "text/x-python",
   "name": "python",
   "nbconvert_exporter": "python",
   "pygments_lexer": "ipython3",
   "version": "3.12.2"
  }
 },
 "nbformat": 4,
 "nbformat_minor": 5
}
