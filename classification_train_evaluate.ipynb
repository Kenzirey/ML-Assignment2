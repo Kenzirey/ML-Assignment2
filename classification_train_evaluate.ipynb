{
 "cells": [
  {
   "cell_type": "code",
   "execution_count": 70,
   "id": "9330b605-91bb-4413-8b3d-74371cffc679",
   "metadata": {},
   "outputs": [],
   "source": [
    "# Importing necessary libraries\n",
    "import pandas as pd\n",
    "import numpy as np\n",
    "from sklearn.model_selection import train_test_split\n",
    "from sklearn.linear_model import LogisticRegression\n",
    "from sklearn.svm import SVC\n",
    "from sklearn.tree import DecisionTreeClassifier\n",
    "from sklearn.ensemble import RandomForestClassifier\n",
    "from sklearn.decomposition import PCA\n",
    "from sklearn.metrics import classification_report, confusion_matrix, ConfusionMatrixDisplay, precision_recall_curve, auc\n",
    "import matplotlib.pyplot as plt\n",
    "import seaborn as sns"
   ]
  },
  {
   "cell_type": "markdown",
   "id": "c2755696-22ed-4428-a0d0-71b251f943df",
   "metadata": {},
   "source": [
    "#### Step 1: Load dataset"
   ]
  },
  {
   "cell_type": "code",
   "execution_count": 31,
   "id": "57db2eaf-1690-4e9b-b41b-4d32357cf38b",
   "metadata": {},
   "outputs": [
    {
     "data": {
      "text/html": [
       "<div>\n",
       "<style scoped>\n",
       "    .dataframe tbody tr th:only-of-type {\n",
       "        vertical-align: middle;\n",
       "    }\n",
       "\n",
       "    .dataframe tbody tr th {\n",
       "        vertical-align: top;\n",
       "    }\n",
       "\n",
       "    .dataframe thead th {\n",
       "        text-align: right;\n",
       "    }\n",
       "</style>\n",
       "<table border=\"1\" class=\"dataframe\">\n",
       "  <thead>\n",
       "    <tr style=\"text-align: right;\">\n",
       "      <th></th>\n",
       "      <th>Diabetes_binary</th>\n",
       "      <th>HighBP</th>\n",
       "      <th>HighChol</th>\n",
       "      <th>CholCheck</th>\n",
       "      <th>BMI</th>\n",
       "      <th>Smoker</th>\n",
       "      <th>Stroke</th>\n",
       "      <th>HeartDiseaseorAttack</th>\n",
       "      <th>PhysActivity</th>\n",
       "      <th>Fruits</th>\n",
       "      <th>...</th>\n",
       "      <th>AnyHealthcare</th>\n",
       "      <th>NoDocbcCost</th>\n",
       "      <th>GenHlth</th>\n",
       "      <th>MentHlth</th>\n",
       "      <th>PhysHlth</th>\n",
       "      <th>DiffWalk</th>\n",
       "      <th>Sex</th>\n",
       "      <th>Age</th>\n",
       "      <th>Education</th>\n",
       "      <th>Income</th>\n",
       "    </tr>\n",
       "  </thead>\n",
       "  <tbody>\n",
       "    <tr>\n",
       "      <th>0</th>\n",
       "      <td>0.0</td>\n",
       "      <td>1.0</td>\n",
       "      <td>1.0</td>\n",
       "      <td>1.0</td>\n",
       "      <td>40.0</td>\n",
       "      <td>1.0</td>\n",
       "      <td>0.0</td>\n",
       "      <td>0.0</td>\n",
       "      <td>0.0</td>\n",
       "      <td>0.0</td>\n",
       "      <td>...</td>\n",
       "      <td>1.0</td>\n",
       "      <td>0.0</td>\n",
       "      <td>5.0</td>\n",
       "      <td>18.0</td>\n",
       "      <td>15.0</td>\n",
       "      <td>1.0</td>\n",
       "      <td>0.0</td>\n",
       "      <td>9.0</td>\n",
       "      <td>4.0</td>\n",
       "      <td>3.0</td>\n",
       "    </tr>\n",
       "    <tr>\n",
       "      <th>1</th>\n",
       "      <td>0.0</td>\n",
       "      <td>0.0</td>\n",
       "      <td>0.0</td>\n",
       "      <td>0.0</td>\n",
       "      <td>25.0</td>\n",
       "      <td>1.0</td>\n",
       "      <td>0.0</td>\n",
       "      <td>0.0</td>\n",
       "      <td>1.0</td>\n",
       "      <td>0.0</td>\n",
       "      <td>...</td>\n",
       "      <td>0.0</td>\n",
       "      <td>1.0</td>\n",
       "      <td>3.0</td>\n",
       "      <td>0.0</td>\n",
       "      <td>0.0</td>\n",
       "      <td>0.0</td>\n",
       "      <td>0.0</td>\n",
       "      <td>7.0</td>\n",
       "      <td>6.0</td>\n",
       "      <td>1.0</td>\n",
       "    </tr>\n",
       "    <tr>\n",
       "      <th>2</th>\n",
       "      <td>0.0</td>\n",
       "      <td>1.0</td>\n",
       "      <td>1.0</td>\n",
       "      <td>1.0</td>\n",
       "      <td>28.0</td>\n",
       "      <td>0.0</td>\n",
       "      <td>0.0</td>\n",
       "      <td>0.0</td>\n",
       "      <td>0.0</td>\n",
       "      <td>1.0</td>\n",
       "      <td>...</td>\n",
       "      <td>1.0</td>\n",
       "      <td>1.0</td>\n",
       "      <td>5.0</td>\n",
       "      <td>30.0</td>\n",
       "      <td>30.0</td>\n",
       "      <td>1.0</td>\n",
       "      <td>0.0</td>\n",
       "      <td>9.0</td>\n",
       "      <td>4.0</td>\n",
       "      <td>8.0</td>\n",
       "    </tr>\n",
       "    <tr>\n",
       "      <th>3</th>\n",
       "      <td>0.0</td>\n",
       "      <td>1.0</td>\n",
       "      <td>0.0</td>\n",
       "      <td>1.0</td>\n",
       "      <td>27.0</td>\n",
       "      <td>0.0</td>\n",
       "      <td>0.0</td>\n",
       "      <td>0.0</td>\n",
       "      <td>1.0</td>\n",
       "      <td>1.0</td>\n",
       "      <td>...</td>\n",
       "      <td>1.0</td>\n",
       "      <td>0.0</td>\n",
       "      <td>2.0</td>\n",
       "      <td>0.0</td>\n",
       "      <td>0.0</td>\n",
       "      <td>0.0</td>\n",
       "      <td>0.0</td>\n",
       "      <td>11.0</td>\n",
       "      <td>3.0</td>\n",
       "      <td>6.0</td>\n",
       "    </tr>\n",
       "    <tr>\n",
       "      <th>4</th>\n",
       "      <td>0.0</td>\n",
       "      <td>1.0</td>\n",
       "      <td>1.0</td>\n",
       "      <td>1.0</td>\n",
       "      <td>24.0</td>\n",
       "      <td>0.0</td>\n",
       "      <td>0.0</td>\n",
       "      <td>0.0</td>\n",
       "      <td>1.0</td>\n",
       "      <td>1.0</td>\n",
       "      <td>...</td>\n",
       "      <td>1.0</td>\n",
       "      <td>0.0</td>\n",
       "      <td>2.0</td>\n",
       "      <td>3.0</td>\n",
       "      <td>0.0</td>\n",
       "      <td>0.0</td>\n",
       "      <td>0.0</td>\n",
       "      <td>11.0</td>\n",
       "      <td>5.0</td>\n",
       "      <td>4.0</td>\n",
       "    </tr>\n",
       "    <tr>\n",
       "      <th>...</th>\n",
       "      <td>...</td>\n",
       "      <td>...</td>\n",
       "      <td>...</td>\n",
       "      <td>...</td>\n",
       "      <td>...</td>\n",
       "      <td>...</td>\n",
       "      <td>...</td>\n",
       "      <td>...</td>\n",
       "      <td>...</td>\n",
       "      <td>...</td>\n",
       "      <td>...</td>\n",
       "      <td>...</td>\n",
       "      <td>...</td>\n",
       "      <td>...</td>\n",
       "      <td>...</td>\n",
       "      <td>...</td>\n",
       "      <td>...</td>\n",
       "      <td>...</td>\n",
       "      <td>...</td>\n",
       "      <td>...</td>\n",
       "      <td>...</td>\n",
       "    </tr>\n",
       "    <tr>\n",
       "      <th>253675</th>\n",
       "      <td>0.0</td>\n",
       "      <td>1.0</td>\n",
       "      <td>1.0</td>\n",
       "      <td>1.0</td>\n",
       "      <td>45.0</td>\n",
       "      <td>0.0</td>\n",
       "      <td>0.0</td>\n",
       "      <td>0.0</td>\n",
       "      <td>0.0</td>\n",
       "      <td>1.0</td>\n",
       "      <td>...</td>\n",
       "      <td>1.0</td>\n",
       "      <td>0.0</td>\n",
       "      <td>3.0</td>\n",
       "      <td>0.0</td>\n",
       "      <td>5.0</td>\n",
       "      <td>0.0</td>\n",
       "      <td>1.0</td>\n",
       "      <td>5.0</td>\n",
       "      <td>6.0</td>\n",
       "      <td>7.0</td>\n",
       "    </tr>\n",
       "    <tr>\n",
       "      <th>253676</th>\n",
       "      <td>1.0</td>\n",
       "      <td>1.0</td>\n",
       "      <td>1.0</td>\n",
       "      <td>1.0</td>\n",
       "      <td>18.0</td>\n",
       "      <td>0.0</td>\n",
       "      <td>0.0</td>\n",
       "      <td>0.0</td>\n",
       "      <td>0.0</td>\n",
       "      <td>0.0</td>\n",
       "      <td>...</td>\n",
       "      <td>1.0</td>\n",
       "      <td>0.0</td>\n",
       "      <td>4.0</td>\n",
       "      <td>0.0</td>\n",
       "      <td>0.0</td>\n",
       "      <td>1.0</td>\n",
       "      <td>0.0</td>\n",
       "      <td>11.0</td>\n",
       "      <td>2.0</td>\n",
       "      <td>4.0</td>\n",
       "    </tr>\n",
       "    <tr>\n",
       "      <th>253677</th>\n",
       "      <td>0.0</td>\n",
       "      <td>0.0</td>\n",
       "      <td>0.0</td>\n",
       "      <td>1.0</td>\n",
       "      <td>28.0</td>\n",
       "      <td>0.0</td>\n",
       "      <td>0.0</td>\n",
       "      <td>0.0</td>\n",
       "      <td>1.0</td>\n",
       "      <td>1.0</td>\n",
       "      <td>...</td>\n",
       "      <td>1.0</td>\n",
       "      <td>0.0</td>\n",
       "      <td>1.0</td>\n",
       "      <td>0.0</td>\n",
       "      <td>0.0</td>\n",
       "      <td>0.0</td>\n",
       "      <td>0.0</td>\n",
       "      <td>2.0</td>\n",
       "      <td>5.0</td>\n",
       "      <td>2.0</td>\n",
       "    </tr>\n",
       "    <tr>\n",
       "      <th>253678</th>\n",
       "      <td>0.0</td>\n",
       "      <td>1.0</td>\n",
       "      <td>0.0</td>\n",
       "      <td>1.0</td>\n",
       "      <td>23.0</td>\n",
       "      <td>0.0</td>\n",
       "      <td>0.0</td>\n",
       "      <td>0.0</td>\n",
       "      <td>0.0</td>\n",
       "      <td>1.0</td>\n",
       "      <td>...</td>\n",
       "      <td>1.0</td>\n",
       "      <td>0.0</td>\n",
       "      <td>3.0</td>\n",
       "      <td>0.0</td>\n",
       "      <td>0.0</td>\n",
       "      <td>0.0</td>\n",
       "      <td>1.0</td>\n",
       "      <td>7.0</td>\n",
       "      <td>5.0</td>\n",
       "      <td>1.0</td>\n",
       "    </tr>\n",
       "    <tr>\n",
       "      <th>253679</th>\n",
       "      <td>1.0</td>\n",
       "      <td>1.0</td>\n",
       "      <td>1.0</td>\n",
       "      <td>1.0</td>\n",
       "      <td>25.0</td>\n",
       "      <td>0.0</td>\n",
       "      <td>0.0</td>\n",
       "      <td>1.0</td>\n",
       "      <td>1.0</td>\n",
       "      <td>1.0</td>\n",
       "      <td>...</td>\n",
       "      <td>1.0</td>\n",
       "      <td>0.0</td>\n",
       "      <td>2.0</td>\n",
       "      <td>0.0</td>\n",
       "      <td>0.0</td>\n",
       "      <td>0.0</td>\n",
       "      <td>0.0</td>\n",
       "      <td>9.0</td>\n",
       "      <td>6.0</td>\n",
       "      <td>2.0</td>\n",
       "    </tr>\n",
       "  </tbody>\n",
       "</table>\n",
       "<p>253680 rows × 22 columns</p>\n",
       "</div>"
      ],
      "text/plain": [
       "        Diabetes_binary  HighBP  HighChol  CholCheck   BMI  Smoker  Stroke  \\\n",
       "0                   0.0     1.0       1.0        1.0  40.0     1.0     0.0   \n",
       "1                   0.0     0.0       0.0        0.0  25.0     1.0     0.0   \n",
       "2                   0.0     1.0       1.0        1.0  28.0     0.0     0.0   \n",
       "3                   0.0     1.0       0.0        1.0  27.0     0.0     0.0   \n",
       "4                   0.0     1.0       1.0        1.0  24.0     0.0     0.0   \n",
       "...                 ...     ...       ...        ...   ...     ...     ...   \n",
       "253675              0.0     1.0       1.0        1.0  45.0     0.0     0.0   \n",
       "253676              1.0     1.0       1.0        1.0  18.0     0.0     0.0   \n",
       "253677              0.0     0.0       0.0        1.0  28.0     0.0     0.0   \n",
       "253678              0.0     1.0       0.0        1.0  23.0     0.0     0.0   \n",
       "253679              1.0     1.0       1.0        1.0  25.0     0.0     0.0   \n",
       "\n",
       "        HeartDiseaseorAttack  PhysActivity  Fruits  ...  AnyHealthcare  \\\n",
       "0                        0.0           0.0     0.0  ...            1.0   \n",
       "1                        0.0           1.0     0.0  ...            0.0   \n",
       "2                        0.0           0.0     1.0  ...            1.0   \n",
       "3                        0.0           1.0     1.0  ...            1.0   \n",
       "4                        0.0           1.0     1.0  ...            1.0   \n",
       "...                      ...           ...     ...  ...            ...   \n",
       "253675                   0.0           0.0     1.0  ...            1.0   \n",
       "253676                   0.0           0.0     0.0  ...            1.0   \n",
       "253677                   0.0           1.0     1.0  ...            1.0   \n",
       "253678                   0.0           0.0     1.0  ...            1.0   \n",
       "253679                   1.0           1.0     1.0  ...            1.0   \n",
       "\n",
       "        NoDocbcCost  GenHlth  MentHlth  PhysHlth  DiffWalk  Sex   Age  \\\n",
       "0               0.0      5.0      18.0      15.0       1.0  0.0   9.0   \n",
       "1               1.0      3.0       0.0       0.0       0.0  0.0   7.0   \n",
       "2               1.0      5.0      30.0      30.0       1.0  0.0   9.0   \n",
       "3               0.0      2.0       0.0       0.0       0.0  0.0  11.0   \n",
       "4               0.0      2.0       3.0       0.0       0.0  0.0  11.0   \n",
       "...             ...      ...       ...       ...       ...  ...   ...   \n",
       "253675          0.0      3.0       0.0       5.0       0.0  1.0   5.0   \n",
       "253676          0.0      4.0       0.0       0.0       1.0  0.0  11.0   \n",
       "253677          0.0      1.0       0.0       0.0       0.0  0.0   2.0   \n",
       "253678          0.0      3.0       0.0       0.0       0.0  1.0   7.0   \n",
       "253679          0.0      2.0       0.0       0.0       0.0  0.0   9.0   \n",
       "\n",
       "        Education  Income  \n",
       "0             4.0     3.0  \n",
       "1             6.0     1.0  \n",
       "2             4.0     8.0  \n",
       "3             3.0     6.0  \n",
       "4             5.0     4.0  \n",
       "...           ...     ...  \n",
       "253675        6.0     7.0  \n",
       "253676        2.0     4.0  \n",
       "253677        5.0     2.0  \n",
       "253678        5.0     1.0  \n",
       "253679        6.0     2.0  \n",
       "\n",
       "[253680 rows x 22 columns]"
      ]
     },
     "execution_count": 31,
     "metadata": {},
     "output_type": "execute_result"
    }
   ],
   "source": [
    "df = pd.read_csv('diabetes_binary_classification_data.csv')\n",
    "df\n"
   ]
  },
  {
   "cell_type": "markdown",
   "id": "5c0280b1-c048-46d2-abad-0fc55d041234",
   "metadata": {},
   "source": [
    "#### Step 2 : Select features from conclusion of data preprocessing"
   ]
  },
  {
   "cell_type": "code",
   "execution_count": 32,
   "id": "31a6c1de-4cec-44f6-94cd-2dd58c5b15e8",
   "metadata": {},
   "outputs": [],
   "source": [
    "# Define selected features and target variable\n",
    "features = ['HighBP', 'HighChol', 'CholCheck', 'Stroke', 'HeartDiseaseorAttack', 'PhysActivity', \n",
    "             'Veggies', 'DiffWalk', 'BMI', 'GenHlth', 'PhysHlth', 'Age', 'Income']\n",
    "X = df[features]\n",
    "y = df['Diabetes_binary']"
   ]
  },
  {
   "cell_type": "code",
   "execution_count": 33,
   "id": "c666d6e9-3a08-4baf-aaf9-0fe612aefc84",
   "metadata": {},
   "outputs": [],
   "source": [
    "# Split the dataset into training and testing sets\n",
    "X_train, X_test, y_train, y_test = train_test_split(X, y, test_size=0.3, random_state=42)"
   ]
  },
  {
   "cell_type": "markdown",
   "id": "7120fea2-c636-46d8-b28e-f190bd3f77e3",
   "metadata": {},
   "source": [
    "#### Step 3: Model Training and Evaluation"
   ]
  },
  {
   "cell_type": "markdown",
   "id": "76fb5841-cd29-476a-9fbe-b700520a838a",
   "metadata": {
    "tags": []
   },
   "source": [
    "##### Model 1 - Logistic Regression"
   ]
  },
  {
   "cell_type": "code",
   "execution_count": 75,
   "id": "91ce9b3d-a7bd-4940-9030-21f50adb2697",
   "metadata": {},
   "outputs": [
    {
     "name": "stdout",
     "output_type": "stream",
     "text": [
      "Logistic PR AUC: 0.40\n"
     ]
    }
   ],
   "source": [
    "# Initialize models\n",
    "logistic_model = LogisticRegression(max_iter=1000)\n",
    "logistic_model.fit(X_train, y_train)\n",
    "logistic_pred = logistic_model.predict(X_test)\n",
    "logistic_prob = logistic_model.predict_proba(X_test)[:, 1]\n",
    "logistic_precision, logistic_recall, _ = precision_recall_curve(y_test, logistic_prob)\n",
    "logistic_auc_pr = auc(logistic_recall, logistic_precision)\n",
    "print(f\"Logistic PR AUC: {logistic_auc_pr:.2f}\")"
   ]
  },
  {
   "cell_type": "code",
   "execution_count": 84,
   "id": "0dee29fc-5612-44e6-970e-50279aa668ee",
   "metadata": {},
   "outputs": [
    {
     "data": {
      "image/png": "[encoded data removed]",
      "text/plain": [
       "<Figure size 432x288 with 2 Axes>"
      ]
     },
     "metadata": {
      "needs_background": "light"
     },
     "output_type": "display_data"
    }
   ],
   "source": [
    "# Confusion Matrix for Logistic Regression\n",
    "conf_matrix = confusion_matrix(y_test, logistic_pred)\n",
    "ConfusionMatrixDisplay(conf_matrix).plot(cmap=\"Blues\")\n",
    "plt.title(\"Confusion Matrix - Logistic\")\n",
    "plt.show()"
   ]
  },
  {
   "cell_type": "code",
   "execution_count": 7,
   "id": "6e717831-ff14-4ca7-9884-0b69cf28e0b6",
   "metadata": {},
   "outputs": [
    {
     "name": "stdout",
     "output_type": "stream",
     "text": [
      "Logistic Regression Classification Report:\n",
      "              precision    recall  f1-score   support\n",
      "\n",
      "         0.0       0.88      0.98      0.93     65605\n",
      "         1.0       0.53      0.15      0.23     10499\n",
      "\n",
      "    accuracy                           0.86     76104\n",
      "   macro avg       0.70      0.56      0.58     76104\n",
      "weighted avg       0.83      0.86      0.83     76104\n",
      "\n"
     ]
    }
   ],
   "source": [
    "print(\"Logistic Regression Classification Report:\")\n",
    "print(classification_report(y_test, logistic_pred))"
   ]
  },
  {
   "cell_type": "markdown",
   "id": "ae132d29-4e3e-496e-af22-951587ce858c",
   "metadata": {},
   "source": [
    "##### Model 2 - Decision Tree"
   ]
  },
  {
   "cell_type": "code",
   "execution_count": 73,
   "id": "0b3bc031-f270-4155-bd34-f1c2d81ed248",
   "metadata": {},
   "outputs": [
    {
     "name": "stdout",
     "output_type": "stream",
     "text": [
      "Decision Tree PR AUC: 0.32\n"
     ]
    }
   ],
   "source": [
    "# Decision Tree\n",
    "decision_tree_model = DecisionTreeClassifier()\n",
    "decision_tree_model.fit(X_train, y_train)\n",
    "decision_tree_pred = decision_tree_model.predict(X_test)\n",
    "decision_tree_prob = decision_tree_model.predict_proba(X_test)[:, 1]\n",
    "decision_tree_precision, decision_tree_recall, _ = precision_recall_curve(y_test, decision_tree_prob)\n",
    "decision_tree_auc_pr = auc(decision_tree_recall, decision_tree_precision)\n",
    "print(f\"Decision Tree PR AUC: {decision_tree_auc_pr:.2f}\")"
   ]
  },
  {
   "cell_type": "code",
   "execution_count": 83,
   "id": "abb73514-7c41-4114-b4b6-d65a4be75add",
   "metadata": {},
   "outputs": [
    {
     "data": {
      "image/png": "[encoded data removed]",
      "text/plain": [
       "<Figure size 432x288 with 2 Axes>"
      ]
     },
     "metadata": {
      "needs_background": "light"
     },
     "output_type": "display_data"
    }
   ],
   "source": [
    "# Confusion Matrix for Decision Tree\n",
    "conf_matrix = confusion_matrix(y_test, decision_tree_pred)\n",
    "ConfusionMatrixDisplay(conf_matrix).plot(cmap=\"Blues\")\n",
    "plt.title(\"Confusion Matrix - Decision Tree\")\n",
    "plt.show()"
   ]
  },
  {
   "cell_type": "code",
   "execution_count": 11,
   "id": "ac11dac5-6d67-4d6f-9689-e3e1f5e04703",
   "metadata": {},
   "outputs": [
    {
     "name": "stdout",
     "output_type": "stream",
     "text": [
      "Decision Tree Classification Report:\n",
      "              precision    recall  f1-score   support\n",
      "\n",
      "         0.0       0.89      0.90      0.89     65605\n",
      "         1.0       0.32      0.29      0.30     10499\n",
      "\n",
      "    accuracy                           0.82     76104\n",
      "   macro avg       0.60      0.59      0.60     76104\n",
      "weighted avg       0.81      0.82      0.81     76104\n",
      "\n"
     ]
    }
   ],
   "source": [
    "print(\"Decision Tree Classification Report:\")\n",
    "print(classification_report(y_test, decision_tree_pred))"
   ]
  },
  {
   "cell_type": "markdown",
   "id": "bcd63655-fa75-4dfe-8788-912ddfc0a91a",
   "metadata": {},
   "source": [
    "##### Model 3 - Random Forest"
   ]
  },
  {
   "cell_type": "code",
   "execution_count": 72,
   "id": "1e0863be-dd71-416b-a825-4b95b28fc0d5",
   "metadata": {},
   "outputs": [
    {
     "name": "stdout",
     "output_type": "stream",
     "text": [
      "Random Forest PR AUC: 0.33\n"
     ]
    }
   ],
   "source": [
    "# Random Forest\n",
    "random_forest_model = RandomForestClassifier(n_estimators=100, random_state=42)\n",
    "random_forest_model.fit(X_train, y_train)\n",
    "random_forest_pred = random_forest_model.predict(X_test)\n",
    "random_forest_prob = random_forest_model.predict_proba(X_test)[:, 1]\n",
    "random_forest_precision, random_forest_recall, _ = precision_recall_curve(y_test, random_forest_prob)\n",
    "random_forest_auc_pr = auc(random_forest_recall, random_forest_precision)\n",
    "print(f\"Random Forest PR AUC: {random_forest_auc_pr:.2f}\")"
   ]
  },
  {
   "cell_type": "code",
   "execution_count": 19,
   "id": "47841def-b21d-443b-bb04-494896e950e8",
   "metadata": {},
   "outputs": [
    {
     "data": {
      "image/png": "[encoded data removed]",
      "text/plain": [
       "<Figure size 432x288 with 2 Axes>"
      ]
     },
     "metadata": {
      "needs_background": "light"
     },
     "output_type": "display_data"
    }
   ],
   "source": [
    "# Confusion Matrix for Random Forest\n",
    "conf_matrix = confusion_matrix(y_test, random_forest_pred)\n",
    "ConfusionMatrixDisplay(conf_matrix).plot(cmap=\"Blues\")\n",
    "plt.title(\"Confusion Matrix - Random Forest\")\n",
    "plt.show()"
   ]
  },
  {
   "cell_type": "code",
   "execution_count": 20,
   "id": "6dc993fc-e2ed-4fab-8d39-937c02ad667c",
   "metadata": {},
   "outputs": [
    {
     "name": "stdout",
     "output_type": "stream",
     "text": [
      "Random Forest Classification Report:\n",
      "              precision    recall  f1-score   support\n",
      "\n",
      "         0.0       0.88      0.95      0.92     65605\n",
      "         1.0       0.41      0.21      0.28     10499\n",
      "\n",
      "    accuracy                           0.85     76104\n",
      "   macro avg       0.65      0.58      0.60     76104\n",
      "weighted avg       0.82      0.85      0.83     76104\n",
      "\n"
     ]
    }
   ],
   "source": [
    "print(\"Random Forest Classification Report:\")\n",
    "print(classification_report(y_test, random_forest_pred))"
   ]
  },
  {
   "cell_type": "markdown",
   "id": "e272a3d4-7665-40ea-a9b9-9cda600baf24",
   "metadata": {},
   "source": [
    "In this diabetes prediction, false negative is more important, so we should focus on `recall`(`sensitivity`) to evaluate the model. we're primarily interested in how well the model identifies true positives (people with diabetes) while minimizing false negatives (those who are incorrectly classified as not having diabetes). Compare with recall of 3 models in the `Diabetes_binary=1 `, decision tree perform slightly better, which means better at identifying diabetic individuals (fewer false negatives)."
   ]
  },
  {
   "cell_type": "markdown",
   "id": "445ed490-f4e0-412b-b4db-3f9b7ad77040",
   "metadata": {},
   "source": [
    "##### PR Curve Comparison for three models ( the dataset is imbalanced dataset,so we use PR-curve)"
   ]
  },
  {
   "cell_type": "code",
   "execution_count": 69,
   "id": "0faab6f2-273e-490a-a500-a73a951c27f6",
   "metadata": {},
   "outputs": [
    {
     "name": "stdout",
     "output_type": "stream",
     "text": [
      "Class distribution:\n",
      "0.0    218334\n",
      "1.0     35346\n",
      "Name: Diabetes_binary, dtype: int64\n",
      "\n",
      "Class proportions:\n",
      "0.0    0.860667\n",
      "1.0    0.139333\n",
      "Name: Diabetes_binary, dtype: float64\n"
     ]
    }
   ],
   "source": [
    "# check whether dataset is a balanced dataset\n",
    "class_distribution = df['Diabetes_binary'].value_counts()\n",
    "\n",
    "# Print the class distribution\n",
    "print(\"Class distribution:\")\n",
    "print(class_distribution)\n",
    "\n",
    "# Calculate the proportion of each class\n",
    "class_proportion = class_distribution / len(df)\n",
    "print(\"\\nClass proportions:\")\n",
    "print(class_proportion)"
   ]
  },
  {
   "cell_type": "code",
   "execution_count": 76,
   "id": "72b4626b-1cea-4b21-8692-5fd0484c4670",
   "metadata": {},
   "outputs": [
    {
     "data": {
      "image/png": "[encoded data removed]",
      "text/plain": [
       "<Figure size 720x504 with 1 Axes>"
      ]
     },
     "metadata": {
      "needs_background": "light"
     },
     "output_type": "display_data"
    }
   ],
   "source": [
    "# Plot PR Curves for all models\n",
    "plt.figure(figsize=(10, 7))\n",
    "\n",
    "plt.plot(logistic_recall, logistic_precision, label='Logistic Regression')\n",
    "plt.plot(random_forest_recall, random_forest_precision, label='Random Forest')\n",
    "plt.plot(decision_tree_recall, decision_tree_precision, label='Decision Tree')\n",
    "\n",
    "plt.xlabel('Recall')\n",
    "plt.ylabel('Precision')\n",
    "plt.title('Precision-Recall Curve Comparison for Logistic, Random Forest, and Decision Tree')\n",
    "plt.legend()\n",
    "plt.grid(True)\n",
    "plt.show()"
   ]
  },
  {
   "cell_type": "markdown",
   "id": "9a470593-41a2-4620-911f-4bba7658e548",
   "metadata": {},
   "source": [
    "The higher the AUC, the better the model's ability to distinguish between the classes, with a focus on precision and recall, which are important in imbalanced datasets like this one. Based on these results, Logistic Regression slightly outperforms the other models in terms of precision and recall."
   ]
  },
  {
   "cell_type": "markdown",
   "id": "565cc981-4adb-4884-823c-c120f00ad597",
   "metadata": {},
   "source": [
    "#### Step 4(Optional) : Experiment on apply PCA to compare the result"
   ]
  },
  {
   "cell_type": "code",
   "execution_count": 24,
   "id": "5536bea7-209e-498e-b19f-1cdf02c81a32",
   "metadata": {},
   "outputs": [
    {
     "name": "stdout",
     "output_type": "stream",
     "text": [
      "Explained Variance by each PCA component:  [0.57772064 0.31216788 0.06869888 0.02896364 0.00539892 0.00176457\n",
      " 0.00129945 0.00122312 0.00101516 0.00068161]\n"
     ]
    }
   ],
   "source": [
    "# Apply PCA\n",
    "pca = PCA(n_components=10)  # You can adjust the number of components based on explained variance\n",
    "X_train_pca = pca.fit_transform(X_train)\n",
    "X_test_pca = pca.transform(X_test)\n",
    "\n",
    "# Explained variance ratio for understanding how much variance is retained by each component\n",
    "explained_variance = pca.explained_variance_ratio_\n",
    "print(\"Explained Variance by each PCA component: \", explained_variance)"
   ]
  },
  {
   "cell_type": "code",
   "execution_count": 25,
   "id": "785aa161-2399-446e-986c-47c8ab68708b",
   "metadata": {},
   "outputs": [
    {
     "name": "stdout",
     "output_type": "stream",
     "text": [
      "        HighBP  HighChol  CholCheck    Stroke  HeartDiseaseorAttack  \\\n",
      "PC1   0.011097  0.007808   0.000785  0.003440              0.006283   \n",
      "PC2   0.012656  0.005187   0.000775 -0.000645              0.000036   \n",
      "PC3  -0.057643 -0.044522  -0.005424 -0.007528             -0.020420   \n",
      "PC4   0.015712  0.000114  -0.003915  0.007550              0.009259   \n",
      "PC5  -0.123311 -0.103383  -0.008369 -0.021666             -0.058650   \n",
      "PC6   0.554667  0.806580   0.030794  0.023735              0.083402   \n",
      "PC7   0.096746 -0.100356  -0.012365  0.008777             -0.000854   \n",
      "PC8  -0.809540  0.566836  -0.013156 -0.014058             -0.021028   \n",
      "PC9  -0.013846 -0.027235   0.001034  0.000626             -0.006759   \n",
      "PC10 -0.061918 -0.016947   0.010899  0.103428              0.296404   \n",
      "\n",
      "      PhysActivity   Veggies  DiffWalk       BMI   GenHlth  PhysHlth  \\\n",
      "PC1      -0.011528 -0.003265  0.021230  0.201683  0.067008  0.973622   \n",
      "PC2      -0.005868 -0.002730  0.003708  0.978152  0.015613 -0.203287   \n",
      "PC3       0.012557  0.002235 -0.021507 -0.022075 -0.046738  0.055799   \n",
      "PC4      -0.028033 -0.027991  0.030823 -0.030665  0.130035 -0.067664   \n",
      "PC5       0.071439  0.035511 -0.074491  0.029793 -0.964739  0.053420   \n",
      "PC6       0.008416 -0.035007  0.004598 -0.010740 -0.166996  0.002375   \n",
      "PC7      -0.841558 -0.497038  0.120262 -0.006823 -0.097235 -0.003923   \n",
      "PC8      -0.123927 -0.072967 -0.013356  0.006341  0.035481 -0.001406   \n",
      "PC9       0.492768 -0.862003 -0.112507  0.002309  0.018122  0.004265   \n",
      "PC10      0.157993 -0.033396  0.929737 -0.003357 -0.076731 -0.011918   \n",
      "\n",
      "           Age    Income  \n",
      "PC1   0.037040 -0.068492  \n",
      "PC2  -0.036399 -0.008979  \n",
      "PC3  -0.986165  0.123534  \n",
      "PC4  -0.134073 -0.978096  \n",
      "PC5   0.045552 -0.147226  \n",
      "PC6  -0.063026 -0.002631  \n",
      "PC7  -0.006985  0.032301  \n",
      "PC8   0.018254 -0.005860  \n",
      "PC9   0.009212  0.007490  \n",
      "PC10 -0.015261  0.021111  \n"
     ]
    }
   ],
   "source": [
    "# Get the components (eigenvectors) and their contributions\n",
    "pca_components = pd.DataFrame(pca.components_, columns=features, index=[f'PC{i+1}' for i in range(pca.n_components)])\n",
    "\n",
    "# Display the components and their contributions to each principal component\n",
    "print(pca_components)"
   ]
  },
  {
   "cell_type": "code",
   "execution_count": 26,
   "id": "48c215c2-12fc-4b91-8dc6-c27005f1fc45",
   "metadata": {},
   "outputs": [
    {
     "name": "stdout",
     "output_type": "stream",
     "text": [
      "Top features contributing to PC1:  PhysHlth                0.973622\n",
      "BMI                     0.201683\n",
      "Income                  0.068492\n",
      "GenHlth                 0.067008\n",
      "Age                     0.037040\n",
      "DiffWalk                0.021230\n",
      "PhysActivity            0.011528\n",
      "HighBP                  0.011097\n",
      "HighChol                0.007808\n",
      "HeartDiseaseorAttack    0.006283\n",
      "Stroke                  0.003440\n",
      "Veggies                 0.003265\n",
      "CholCheck               0.000785\n",
      "Name: PC1, dtype: float64\n"
     ]
    }
   ],
   "source": [
    "# Sort and select the top contributing features for the first principal component\n",
    "top_features_pc1 = pca_components.loc['PC1'].abs().sort_values(ascending=False)\n",
    "print(\"Top features contributing to PC1: \", top_features_pc1)"
   ]
  },
  {
   "cell_type": "code",
   "execution_count": 34,
   "id": "110c9547-90c4-4d15-bc72-ed628610ddf6",
   "metadata": {},
   "outputs": [],
   "source": [
    "pca = PCA(n_components=None)  # Do not set the number of components yet, let PCA determine\n",
    "X_train_pca = pca.fit_transform(X_train)\n",
    "X_test_pca = pca.transform(X_test)"
   ]
  },
  {
   "cell_type": "code",
   "execution_count": 35,
   "id": "d982b997-013a-4d80-a794-a9c4f20825f6",
   "metadata": {},
   "outputs": [
    {
     "name": "stdout",
     "output_type": "stream",
     "text": [
      "Explained Variance by each PCA component:  [5.77720638e-01 3.12167880e-01 6.86988791e-02 2.89636382e-02\n",
      " 5.39891932e-03 1.76457068e-03 1.29944854e-03 1.22312039e-03\n",
      " 1.01515551e-03 6.81614387e-04 5.47179330e-04 2.60161512e-04\n",
      " 2.58794459e-04]\n"
     ]
    }
   ],
   "source": [
    "# Explained variance for each principal component\n",
    "explained_variance = pca.explained_variance_ratio_\n",
    "print(\"Explained Variance by each PCA component: \", explained_variance)"
   ]
  },
  {
   "cell_type": "code",
   "execution_count": 41,
   "id": "aaa89563-90fa-47f1-b591-d0cc7e659501",
   "metadata": {},
   "outputs": [
    {
     "name": "stdout",
     "output_type": "stream",
     "text": [
      "Selected Components (Variance > 0.006): [0 1 2 3]\n"
     ]
    }
   ],
   "source": [
    "# Select the components where the explained variance > 0.01\n",
    "selected_components = np.where(explained_variance > 0.006)[0]\n",
    "print(\"Selected Components (Variance > 0.006):\", selected_components)"
   ]
  },
  {
   "cell_type": "code",
   "execution_count": 42,
   "id": "6ad90103-92ee-468c-812a-c6c6ae5c485e",
   "metadata": {},
   "outputs": [],
   "source": [
    "# Retain only the selected components\n",
    "X_train_pca_selected = X_train_pca[:, selected_components]\n",
    "X_test_pca_selected = X_test_pca[:, selected_components]"
   ]
  },
  {
   "cell_type": "code",
   "execution_count": 43,
   "id": "8537d3f9-445c-4b2b-9f7d-d6e8454ba021",
   "metadata": {},
   "outputs": [
    {
     "name": "stdout",
     "output_type": "stream",
     "text": [
      "X_train_pca_selected shape: (177576, 4)\n",
      "X_test_pca_selected shape: (76104, 4)\n"
     ]
    }
   ],
   "source": [
    "# check the shape of the new PCA-transformed datasets\n",
    "print(\"X_train_pca_selected shape:\", X_train_pca_selected.shape)\n",
    "print(\"X_test_pca_selected shape:\", X_test_pca_selected.shape)"
   ]
  },
  {
   "cell_type": "markdown",
   "id": "5229ba59-c35e-4dbb-af75-e5833cba7e54",
   "metadata": {
    "tags": []
   },
   "source": [
    "#### model 1: Logistic Model using new feature list"
   ]
  },
  {
   "cell_type": "code",
   "execution_count": 79,
   "id": "ab32bb9e-8703-412b-8568-5ae7b836c414",
   "metadata": {},
   "outputs": [
    {
     "name": "stdout",
     "output_type": "stream",
     "text": [
      "Logistic PR AUC: 0.33\n"
     ]
    }
   ],
   "source": [
    "# Initialize models\n",
    "pca_logistic_model = LogisticRegression(max_iter=1000)\n",
    "pca_logistic_model.fit(X_train_pca_selected, y_train)\n",
    "pca_logistic_pred = pca_logistic_model.predict(X_test_pca_selected)\n",
    "pca_logistic_prob = pca_logistic_model.predict_proba(X_test_pca_selected)[:, 1]\n",
    "pca_logistic_precision, pca_logistic_recall, _ = precision_recall_curve(y_test, pca_logistic_prob)\n",
    "pca_logistic_auc_pr = auc(pca_logistic_recall, pca_logistic_precision)\n",
    "print(f\"Logistic PR AUC: {pca_logistic_auc_pr:.2f}\")"
   ]
  },
  {
   "cell_type": "code",
   "execution_count": 50,
   "id": "3a8f82ac-807e-4bfb-b21b-9ee9b467b7e9",
   "metadata": {},
   "outputs": [
    {
     "data": {
      "image/png": "[encoded data removed]",
      "text/plain": [
       "<Figure size 432x288 with 2 Axes>"
      ]
     },
     "metadata": {
      "needs_background": "light"
     },
     "output_type": "display_data"
    }
   ],
   "source": [
    "# Confusion Matrix for Logistic Regression\n",
    "conf_matrix = confusion_matrix(y_test, pca_logistic_pred)\n",
    "ConfusionMatrixDisplay(conf_matrix).plot(cmap=\"Blues\")\n",
    "plt.title(\"Confusion Matrix - Random Forest\")\n",
    "plt.show()"
   ]
  },
  {
   "cell_type": "code",
   "execution_count": 51,
   "id": "e19fd08a-0e14-4389-8683-ae9fe8f75a83",
   "metadata": {},
   "outputs": [
    {
     "name": "stdout",
     "output_type": "stream",
     "text": [
      "Logistic Regression Classification Report:\n",
      "              precision    recall  f1-score   support\n",
      "\n",
      "         0.0       0.87      0.99      0.92     65605\n",
      "         1.0       0.46      0.07      0.12     10499\n",
      "\n",
      "    accuracy                           0.86     76104\n",
      "   macro avg       0.67      0.53      0.52     76104\n",
      "weighted avg       0.81      0.86      0.81     76104\n",
      "\n"
     ]
    }
   ],
   "source": [
    "print(\"Logistic Regression Classification Report:\")\n",
    "print(classification_report(y_test, pca_logistic_pred))"
   ]
  },
  {
   "cell_type": "markdown",
   "id": "d3ebae2f-9d58-405e-a9d0-7f40518d19dc",
   "metadata": {},
   "source": [
    "##### Model 2 - Decision Tree model using new feature list"
   ]
  },
  {
   "cell_type": "code",
   "execution_count": 80,
   "id": "43ab4a53-d3ba-4ecb-8104-3c647e2a2d76",
   "metadata": {},
   "outputs": [
    {
     "name": "stdout",
     "output_type": "stream",
     "text": [
      "Decision Tree PR AUC: 0.30\n"
     ]
    }
   ],
   "source": [
    "# Decision Tree\n",
    "pca_decision_tree_model = DecisionTreeClassifier()\n",
    "pca_decision_tree_model.fit(X_train_pca_selected, y_train)\n",
    "pca_decision_tree_pred = pca_decision_tree_model.predict(X_test_pca_selected)\n",
    "pca_decision_tree_prob = pca_decision_tree_model.predict_proba(X_test_pca_selected)[:, 1]\n",
    "pca_decision_tree_precision, pca_decision_tree_recall, _ = precision_recall_curve(y_test, pca_decision_tree_prob)\n",
    "pca_decision_tree_auc_pr = auc(pca_decision_tree_recall, pca_decision_tree_precision)\n",
    "print(f\"Decision Tree PR AUC: {pca_decision_tree_auc_pr:.2f}\")"
   ]
  },
  {
   "cell_type": "code",
   "execution_count": 53,
   "id": "2df62a17-e860-4d48-97d7-0b67d16172ce",
   "metadata": {},
   "outputs": [
    {
     "data": {
      "image/png": "[encoded data removed]",
      "text/plain": [
       "<Figure size 432x288 with 2 Axes>"
      ]
     },
     "metadata": {
      "needs_background": "light"
     },
     "output_type": "display_data"
    }
   ],
   "source": [
    "# Confusion Matrix for Random Forest\n",
    "conf_matrix = confusion_matrix(y_test, pca_decision_tree_pred)\n",
    "ConfusionMatrixDisplay(conf_matrix).plot(cmap=\"Blues\")\n",
    "plt.title(\"Confusion Matrix - Random Forest\")\n",
    "plt.show()"
   ]
  },
  {
   "cell_type": "code",
   "execution_count": 54,
   "id": "d93d9644-f648-4e4f-89c3-96e286753494",
   "metadata": {},
   "outputs": [
    {
     "name": "stdout",
     "output_type": "stream",
     "text": [
      "Decision Tree Classification Report:\n",
      "              precision    recall  f1-score   support\n",
      "\n",
      "         0.0       0.88      0.91      0.89     65605\n",
      "         1.0       0.30      0.25      0.27     10499\n",
      "\n",
      "    accuracy                           0.82     76104\n",
      "   macro avg       0.59      0.58      0.58     76104\n",
      "weighted avg       0.80      0.82      0.81     76104\n",
      "\n"
     ]
    }
   ],
   "source": [
    "print(\"Decision Tree Classification Report:\")\n",
    "print(classification_report(y_test, pca_decision_tree_pred))"
   ]
  },
  {
   "cell_type": "markdown",
   "id": "9271d9c1-90d5-439e-8995-dcc972e20f20",
   "metadata": {},
   "source": [
    "##### model 3: Random Froest using new feature list"
   ]
  },
  {
   "cell_type": "code",
   "execution_count": 81,
   "id": "3071e89d-2ed9-4440-80d7-b2720ac92d95",
   "metadata": {},
   "outputs": [
    {
     "name": "stdout",
     "output_type": "stream",
     "text": [
      "Random Forest PR AUC: 0.29\n"
     ]
    }
   ],
   "source": [
    "# Random Forest\n",
    "pca_random_forest_model = RandomForestClassifier(n_estimators=100, random_state=42)\n",
    "pca_random_forest_model.fit(X_train_pca_selected, y_train)\n",
    "pca_random_forest_pred = pca_random_forest_model.predict(X_test_pca_selected)\n",
    "pca_random_forest_prob = pca_random_forest_model.predict_proba(X_test_pca_selected)[:, 1]\n",
    "pca_random_forest_precision, pca_random_forest_recall, _ = precision_recall_curve(y_test, pca_random_forest_prob)\n",
    "pca_random_forest_auc_pr = auc(pca_random_forest_recall, pca_random_forest_precision)\n",
    "print(f\"Random Forest PR AUC: {pca_random_forest_auc_pr:.2f}\")"
   ]
  },
  {
   "cell_type": "code",
   "execution_count": 56,
   "id": "8cb8ff30-ff42-4826-9766-402dca0bd3e6",
   "metadata": {},
   "outputs": [
    {
     "data": {
      "image/png": "[encoded data removed]",
      "text/plain": [
       "<Figure size 432x288 with 2 Axes>"
      ]
     },
     "metadata": {
      "needs_background": "light"
     },
     "output_type": "display_data"
    }
   ],
   "source": [
    "# Confusion Matrix for Random Forest\n",
    "conf_matrix = confusion_matrix(y_test, pca_random_forest_pred)\n",
    "ConfusionMatrixDisplay(conf_matrix).plot(cmap=\"Blues\")\n",
    "plt.title(\"Confusion Matrix - Random Forest\")\n",
    "plt.show()"
   ]
  },
  {
   "cell_type": "code",
   "execution_count": 57,
   "id": "c1ad4dc4-b096-4cce-a33f-87c4e3af6a7a",
   "metadata": {},
   "outputs": [
    {
     "name": "stdout",
     "output_type": "stream",
     "text": [
      "Random Forest Classification Report:\n",
      "              precision    recall  f1-score   support\n",
      "\n",
      "         0.0       0.88      0.94      0.91     65605\n",
      "         1.0       0.35      0.19      0.25     10499\n",
      "\n",
      "    accuracy                           0.84     76104\n",
      "   macro avg       0.62      0.57      0.58     76104\n",
      "weighted avg       0.81      0.84      0.82     76104\n",
      "\n"
     ]
    }
   ],
   "source": [
    "print(\"Random Forest Classification Report:\")\n",
    "print(classification_report(y_test, pca_random_forest_pred))"
   ]
  },
  {
   "cell_type": "markdown",
   "id": "33925297-805c-4099-a670-f76ea060b3c4",
   "metadata": {},
   "source": [
    "#### ROC Curve Comparison"
   ]
  },
  {
   "cell_type": "code",
   "execution_count": 82,
   "id": "69df5e8a-f3f0-4b35-91ef-bfe1e69bc355",
   "metadata": {},
   "outputs": [
    {
     "data": {
      "image/png": "[encoded data removed]",
      "text/plain": [
       "<Figure size 720x504 with 1 Axes>"
      ]
     },
     "metadata": {
      "needs_background": "light"
     },
     "output_type": "display_data"
    }
   ],
   "source": [
    "# Plot PR Curves for all models\n",
    "plt.figure(figsize=(10, 7))\n",
    "\n",
    "plt.plot(pca_logistic_recall, pca_logistic_precision, label='Logistic Regression')\n",
    "plt.plot(pca_random_forest_recall, pca_random_forest_precision, label='Random Forest')\n",
    "plt.plot(pca_decision_tree_recall, pca_decision_tree_precision, label='Decision Tree')\n",
    "\n",
    "plt.xlabel('Recall')\n",
    "plt.ylabel('Precision')\n",
    "plt.title('Precision-Recall Curve Comparison for Logistic, Random Forest, and Decision Tree using new feature list')\n",
    "plt.legend()\n",
    "plt.grid(True)\n",
    "plt.show()"
   ]
  },
  {
   "cell_type": "markdown",
   "id": "017a9ced-9f86-4787-b0d6-b370be4778f9",
   "metadata": {},
   "source": [
    "From PCA analysis, we can see that the model performance actually not good as when we take more features, which is showing that all the features we selected are essential to the prediction"
   ]
  },
  {
   "cell_type": "code",
   "execution_count": null,
   "id": "d0948fe3-ef61-47be-8821-814cdabab3f5",
   "metadata": {},
   "outputs": [],
   "source": []
  },
  {
   "cell_type": "code",
   "execution_count": null,
   "id": "6fb2c393-be43-44ec-bb2f-dee0fe7b3930",
   "metadata": {},
   "outputs": [],
   "source": []
  }
 ],
 "metadata": {
  "kernelspec": {
   "display_name": "Python 3",
   "language": "python",
   "name": "python3"
  },
  "language_info": {
   "codemirror_mode": {
    "name": "ipython",
    "version": 3
   },
   "file_extension": ".py",
   "mimetype": "text/x-python",
   "name": "python",
   "nbconvert_exporter": "python",
   "pygments_lexer": "ipython3",
   "version": "3.6.12"
  }
 },
 "nbformat": 4,
 "nbformat_minor": 5
}
